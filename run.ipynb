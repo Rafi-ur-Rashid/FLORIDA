{
 "cells": [
  {
   "cell_type": "code",
   "execution_count": null,
   "metadata": {},
   "outputs": [],
   "source": [
    "from jinja2 import Template\n",
    "import yaml\n",
    "\n",
    "# Define the dynamic values\n",
    "context = {\n",
    "    'type': 'loan',\n",
    "    'aggregation_methods': 'our_aggr',\n",
    "    'attack_methods': 'inner_product_manipulation',\n",
    "    'noniid': True,\n",
    "    'resumed_model': False,\n",
    "    'mal_pcnt': 0.1,\n",
    "}\n",
    "\n",
    "# Load the template file\n",
    "with open('utils/jinja.yaml') as file:\n",
    "    template = Template(file.read())\n",
    "\n",
    "# Render the template with the dynamic values\n",
    "rendered_config = template.render(context)\n",
    "\n",
    "# The rendered_config now contains the final YAML configuration\n",
    "# convert it into a dictionary\n",
    "params = yaml.load(rendered_config, Loader=yaml.FullLoader)\n"
   ]
  },
  {
   "cell_type": "code",
   "execution_count": null,
   "metadata": {},
   "outputs": [],
   "source": [
    "params['poison_epochs']"
   ]
  },
  {
   "cell_type": "code",
   "execution_count": null,
   "metadata": {},
   "outputs": [],
   "source": [
    "missing_mask"
   ]
  },
  {
   "cell_type": "code",
   "execution_count": null,
   "metadata": {},
   "outputs": [],
   "source": [
    "from main import run\n",
    "\n",
    "run(params)"
   ]
  }
 ],
 "metadata": {
  "kernelspec": {
   "display_name": "fl",
   "language": "python",
   "name": "python3"
  },
  "language_info": {
   "codemirror_mode": {
    "name": "ipython",
    "version": 3
   },
   "file_extension": ".py",
   "mimetype": "text/x-python",
   "name": "python",
   "nbconvert_exporter": "python",
   "pygments_lexer": "ipython3",
   "version": "3.8.16"
  },
  "orig_nbformat": 4
 },
 "nbformat": 4,
 "nbformat_minor": 2
}
