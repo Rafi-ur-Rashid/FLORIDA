{
 "cells": [
  {
   "cell_type": "code",
   "execution_count": 1,
   "metadata": {},
   "outputs": [],
   "source": [
    "from jinja2 import Template\n",
    "import yaml\n",
    "\n",
    "# Define the dynamic values\n",
    "context = {\n",
    "    'type': 'cifar',\n",
    "    'aggregation_methods': 'our_aggr',\n",
    "    'injective_florida': False,\n",
    "    'attack_methods': 'attack_of_the_tails',\n",
    "    'noniid': False,\n",
    "    'resumed_model': True,\n",
    "    'mal_pcnt': 0.4,\n",
    "    # 'oracle_mode': True\n",
    "}\n",
    "\n",
    "# Load the template file\n",
    "with open('utils/jinja.yaml') as file:\n",
    "    template = Template(file.read())\n",
    "\n",
    "# Render the template with the dynamic values\n",
    "rendered_config = template.render(context)\n",
    "\n",
    "# The rendered_config now contains the final YAML configuration\n",
    "# convert it into a dictionary\n",
    "params = yaml.load(rendered_config, Loader=yaml.FullLoader)\n"
   ]
  },
  {
   "cell_type": "code",
   "execution_count": null,
   "metadata": {},
   "outputs": [],
   "source": [
    "params['poison_epochs']"
   ]
  },
  {
   "cell_type": "code",
   "execution_count": null,
   "metadata": {},
   "outputs": [],
   "source": [
    "missing_mask"
   ]
  },
  {
   "cell_type": "code",
   "execution_count": 2,
   "metadata": {},
   "outputs": [
    {
     "name": "stderr",
     "output_type": "stream",
     "text": [
      "current path: saved_models/113d188cf4a0f8a7bc9c788e32162e09\n",
      "Loading data\n"
     ]
    },
    {
     "name": "stdout",
     "output_type": "stream",
     "text": [
      "Files already downloaded and verified\n",
      "Files already downloaded and verified\n",
      "Files already downloaded and verified\n"
     ]
    },
    {
     "name": "stderr",
     "output_type": "stream",
     "text": [
      "poison train and test data from southwest loaded\n",
      "sampling indices for participants that are equally\n",
      "100%|██████████| 100/100 [00:00<00:00, 28366.73it/s]\n",
      "train loaders done\n",
      "get poison test loader\n",
      "adversarial_namelist: [81, 14, 3, 94, 35, 31, 28, 17, 13, 86, 69, 11, 75, 54, 4, 97, 88, 27, 29, 64, 77, 84, 71, 25, 89, 53, 93, 57, 95, 0, 20, 90, 43, 79, 19, 82, 67, 6, 5, 24]\n",
      "benign_namelist: [1, 2, 7, 8, 9, 10, 12, 15, 16, 18, 21, 22, 23, 26, 30, 32, 33, 34, 36, 37, 38, 39, 40, 41, 42, 44, 45, 46, 47, 48, 49, 50, 51, 52, 55, 56, 58, 59, 60, 61, 62, 63, 65, 66, 68, 70, 72, 73, 74, 76, 78, 80, 83, 85, 87, 91, 92, 96, 98, 99]\n",
      "load data done\n",
      "Loaded parameters from saved model: LR is 0.1 and current epoch is 201\n",
      "create model done\n",
      "Poisoned following participants: [81, 14, 3, 94, 35, 31, 28, 17, 13, 86, 69, 11, 75, 54, 4, 97, 88, 27, 29, 64, 77, 84, 71, 25, 89, 53, 93, 57, 95, 0, 20, 90, 43, 79, 19, 82, 67, 6, 5, 24]\n",
      "Server Epoch:201 choose agents : [79, 77, 57, 94, 95, 64, 69, 88, 17, 81, 12, 41, 80, 38, 58, 66, 26, 39, 70, 91, 63, 7, 8, 51, 21].\n",
      "100%|██████████| 25/25 [00:23<00:00,  1.06it/s]\n",
      "time spent on training: 23.54926609992981\n",
      "training with 25 agents done\n",
      "received 25 updates\n",
      "Started clustering guided aggregation\n",
      "Converted gradients to param list: Time: 0.8022270202636719\n",
      "/Users/ehsanulkabir/miniconda/envs/fl/lib/python3.8/site-packages/sklearn/cluster/_agglomerative.py:983: FutureWarning: Attribute `affinity` was deprecated in version 1.2 and will be removed in 1.4. Use `metric` instead\n",
      "  warnings.warn(\n",
      "/Users/ehsanulkabir/miniconda/envs/fl/lib/python3.8/site-packages/sklearn/cluster/_agglomerative.py:983: FutureWarning: Attribute `affinity` was deprecated in version 1.2 and will be removed in 1.4. Use `metric` instead\n",
      "  warnings.warn(\n",
      "/Users/ehsanulkabir/miniconda/envs/fl/lib/python3.8/site-packages/sklearn/cluster/_agglomerative.py:983: FutureWarning: Attribute `affinity` was deprecated in version 1.2 and will be removed in 1.4. Use `metric` instead\n",
      "  warnings.warn(\n",
      "/Users/ehsanulkabir/miniconda/envs/fl/lib/python3.8/site-packages/sklearn/cluster/_agglomerative.py:983: FutureWarning: Attribute `affinity` was deprecated in version 1.2 and will be removed in 1.4. Use `metric` instead\n",
      "  warnings.warn(\n",
      "/Users/ehsanulkabir/miniconda/envs/fl/lib/python3.8/site-packages/sklearn/cluster/_agglomerative.py:983: FutureWarning: Attribute `affinity` was deprecated in version 1.2 and will be removed in 1.4. Use `metric` instead\n",
      "  warnings.warn(\n",
      "/Users/ehsanulkabir/miniconda/envs/fl/lib/python3.8/site-packages/sklearn/cluster/_agglomerative.py:983: FutureWarning: Attribute `affinity` was deprecated in version 1.2 and will be removed in 1.4. Use `metric` instead\n",
      "  warnings.warn(\n",
      "/Users/ehsanulkabir/miniconda/envs/fl/lib/python3.8/site-packages/sklearn/cluster/_agglomerative.py:983: FutureWarning: Attribute `affinity` was deprecated in version 1.2 and will be removed in 1.4. Use `metric` instead\n",
      "  warnings.warn(\n",
      "/Users/ehsanulkabir/miniconda/envs/fl/lib/python3.8/site-packages/sklearn/cluster/_agglomerative.py:983: FutureWarning: Attribute `affinity` was deprecated in version 1.2 and will be removed in 1.4. Use `metric` instead\n",
      "  warnings.warn(\n",
      "/Users/ehsanulkabir/miniconda/envs/fl/lib/python3.8/site-packages/sklearn/cluster/_agglomerative.py:983: FutureWarning: Attribute `affinity` was deprecated in version 1.2 and will be removed in 1.4. Use `metric` instead\n",
      "  warnings.warn(\n",
      "/Users/ehsanulkabir/miniconda/envs/fl/lib/python3.8/site-packages/sklearn/cluster/_agglomerative.py:983: FutureWarning: Attribute `affinity` was deprecated in version 1.2 and will be removed in 1.4. Use `metric` instead\n",
      "  warnings.warn(\n",
      "/Users/ehsanulkabir/miniconda/envs/fl/lib/python3.8/site-packages/sklearn/cluster/_agglomerative.py:983: FutureWarning: Attribute `affinity` was deprecated in version 1.2 and will be removed in 1.4. Use `metric` instead\n",
      "  warnings.warn(\n",
      "/Users/ehsanulkabir/miniconda/envs/fl/lib/python3.8/site-packages/sklearn/cluster/_agglomerative.py:983: FutureWarning: Attribute `affinity` was deprecated in version 1.2 and will be removed in 1.4. Use `metric` instead\n",
      "  warnings.warn(\n",
      "/Users/ehsanulkabir/miniconda/envs/fl/lib/python3.8/site-packages/sklearn/cluster/_agglomerative.py:983: FutureWarning: Attribute `affinity` was deprecated in version 1.2 and will be removed in 1.4. Use `metric` instead\n",
      "  warnings.warn(\n",
      "/Users/ehsanulkabir/miniconda/envs/fl/lib/python3.8/site-packages/sklearn/cluster/_agglomerative.py:983: FutureWarning: Attribute `affinity` was deprecated in version 1.2 and will be removed in 1.4. Use `metric` instead\n",
      "  warnings.warn(\n",
      "Agglomerative Clustering: Time: 1.5422639846801758\n",
      "Clustering by model updates\n",
      "cluster: [10, 11, 12, 13, 14, 15, 16, 17, 18, 19, 20, 21, 22, 23, 24]\n",
      "names: [79, 77, 57, 94, 95, 64, 69, 88, 17, 81, 12, 41, 80, 38, 58, 66, 26, 39, 70, 91, 63, 7, 8, 51, 21]\n",
      "cluster: [0, 1, 2, 3, 4, 5, 6, 7, 8, 9]\n",
      "names: [79, 77, 57, 94, 95, 64, 69, 88, 17, 81, 12, 41, 80, 38, 58, 66, 26, 39, 70, 91, 63, 7, 8, 51, 21]\n"
     ]
    },
    {
     "name": "stdout",
     "output_type": "stream",
     "text": [
      "Validating all clients at epoch 201\n"
     ]
    },
    {
     "name": "stderr",
     "output_type": "stream",
     "text": [
      "100%|██████████| 2/2 [00:30<00:00, 15.31s/it]\n",
      "cluster maliciousness: [0.0, 1.0]\n",
      "saving validation container to saved_models/113d188cf4a0f8a7bc9c788e32162e09/validation_container_201.pkl with params type <class 'collections.defaultdict'>\n",
      "saving validation container to saved_models/113d188cf4a0f8a7bc9c788e32162e09/validation_container_201.pkl with params type <class 'collections.defaultdict'>\n",
      "Validation Done: Time: 45.135120153427124\n",
      "params type <class 'collections.defaultdict'>\n",
      "self.mal_cluster_indices: [1], self.benign_cluster_indices: [0]\n",
      "before malicious validation crafting\n",
      "self.lowest_performing_classes: [6, 2]\n",
      "lowest_score_for_each_cluster: [-1.5021263, -1.1734581]\n",
      "after malicious validation crafting\n",
      "self.lowest_performing_classes: [6, 2]\n",
      "lowest_score_for_each_cluster: [-1.5021263, -1.1734581]\n",
      "zscores: [-1.0000004   0.99999964]\n",
      "self.argsort_result: [0 1]\n"
     ]
    },
    {
     "name": "stdout",
     "output_type": "stream",
     "text": [
      "wv: [ 0.10059281612877286 0.09986107196943847 0.10290477712156815 0.10135801272482817 0.09797240906313134 0.10648507031341099 0.0987246324431266 0.10124795846818108 0.09032233989022732 0.10053091187731504 0.0 0.0 0.0 0.0 0.0 0.0 0.0 0.0 0.0 0.0 0.0 0.0 0.0 0.0 0.0]\n"
     ]
    },
    {
     "name": "stderr",
     "output_type": "stream",
     "text": [
      "Aggregation Done: Time 1.2315049171447754\n",
      "adversarial wv: ['79: 0.10059281612877286', '77: 0.09986107196943847', '57: 0.10290477712156815', '94: 0.10135801272482817', '95: 0.09797240906313134', '64: 0.10648507031341099', '69: 0.0987246324431266', '88: 0.10124795846818108', '17: 0.09032233989022732', '81: 0.10053091187731504']\n",
      "benign wv: ['12: 0.0', '41: 0.0', '80: 0.0', '38: 0.0', '58: 0.0', '66: 0.0', '26: 0.0', '39: 0.0', '70: 0.0', '91: 0.0', '63: 0.0', '7: 0.0', '8: 0.0', '51: 0.0', '21: 0.0']\n",
      "time spent on aggregation: 59.20678496360779\n",
      "___Test Target_ResNet_18 poisoned: False, epoch: 201: Average loss: 0.8505, Accuracy: 7342/10000 (73.4200%)\n",
      "___Test Target_ResNet_18 poisoned: True, epoch: -1: Average loss: 0.6480, Accuracy: 144/196 (73.4694%)\n",
      "time spent on testing: 2.2904319763183594\n",
      "Done in 85.04747009277344 sec.\n",
      "This run has a label: May.22_16.57.20. \n",
      "Server Epoch:202 choose agents : [93, 89, 6, 0, 35, 71, 28, 86, 84, 13, 92, 83, 34, 61, 74, 16, 26, 30, 46, 98, 15, 40, 1, 44, 91].\n",
      "100%|██████████| 25/25 [00:22<00:00,  1.09it/s]\n",
      "time spent on training: 23.774108171463013\n",
      "training with 25 agents done\n",
      "received 25 updates\n",
      "Started clustering guided aggregation\n",
      "Converted gradients to param list: Time: 0.8408777713775635\n",
      "/Users/ehsanulkabir/miniconda/envs/fl/lib/python3.8/site-packages/sklearn/cluster/_agglomerative.py:983: FutureWarning: Attribute `affinity` was deprecated in version 1.2 and will be removed in 1.4. Use `metric` instead\n",
      "  warnings.warn(\n",
      "/Users/ehsanulkabir/miniconda/envs/fl/lib/python3.8/site-packages/sklearn/cluster/_agglomerative.py:983: FutureWarning: Attribute `affinity` was deprecated in version 1.2 and will be removed in 1.4. Use `metric` instead\n",
      "  warnings.warn(\n",
      "/Users/ehsanulkabir/miniconda/envs/fl/lib/python3.8/site-packages/sklearn/cluster/_agglomerative.py:983: FutureWarning: Attribute `affinity` was deprecated in version 1.2 and will be removed in 1.4. Use `metric` instead\n",
      "  warnings.warn(\n",
      "/Users/ehsanulkabir/miniconda/envs/fl/lib/python3.8/site-packages/sklearn/cluster/_agglomerative.py:983: FutureWarning: Attribute `affinity` was deprecated in version 1.2 and will be removed in 1.4. Use `metric` instead\n",
      "  warnings.warn(\n",
      "/Users/ehsanulkabir/miniconda/envs/fl/lib/python3.8/site-packages/sklearn/cluster/_agglomerative.py:983: FutureWarning: Attribute `affinity` was deprecated in version 1.2 and will be removed in 1.4. Use `metric` instead\n",
      "  warnings.warn(\n",
      "/Users/ehsanulkabir/miniconda/envs/fl/lib/python3.8/site-packages/sklearn/cluster/_agglomerative.py:983: FutureWarning: Attribute `affinity` was deprecated in version 1.2 and will be removed in 1.4. Use `metric` instead\n",
      "  warnings.warn(\n",
      "/Users/ehsanulkabir/miniconda/envs/fl/lib/python3.8/site-packages/sklearn/cluster/_agglomerative.py:983: FutureWarning: Attribute `affinity` was deprecated in version 1.2 and will be removed in 1.4. Use `metric` instead\n",
      "  warnings.warn(\n",
      "/Users/ehsanulkabir/miniconda/envs/fl/lib/python3.8/site-packages/sklearn/cluster/_agglomerative.py:983: FutureWarning: Attribute `affinity` was deprecated in version 1.2 and will be removed in 1.4. Use `metric` instead\n",
      "  warnings.warn(\n",
      "/Users/ehsanulkabir/miniconda/envs/fl/lib/python3.8/site-packages/sklearn/cluster/_agglomerative.py:983: FutureWarning: Attribute `affinity` was deprecated in version 1.2 and will be removed in 1.4. Use `metric` instead\n",
      "  warnings.warn(\n",
      "/Users/ehsanulkabir/miniconda/envs/fl/lib/python3.8/site-packages/sklearn/cluster/_agglomerative.py:983: FutureWarning: Attribute `affinity` was deprecated in version 1.2 and will be removed in 1.4. Use `metric` instead\n",
      "  warnings.warn(\n",
      "/Users/ehsanulkabir/miniconda/envs/fl/lib/python3.8/site-packages/sklearn/cluster/_agglomerative.py:983: FutureWarning: Attribute `affinity` was deprecated in version 1.2 and will be removed in 1.4. Use `metric` instead\n",
      "  warnings.warn(\n",
      "/Users/ehsanulkabir/miniconda/envs/fl/lib/python3.8/site-packages/sklearn/cluster/_agglomerative.py:983: FutureWarning: Attribute `affinity` was deprecated in version 1.2 and will be removed in 1.4. Use `metric` instead\n",
      "  warnings.warn(\n",
      "/Users/ehsanulkabir/miniconda/envs/fl/lib/python3.8/site-packages/sklearn/cluster/_agglomerative.py:983: FutureWarning: Attribute `affinity` was deprecated in version 1.2 and will be removed in 1.4. Use `metric` instead\n",
      "  warnings.warn(\n",
      "/Users/ehsanulkabir/miniconda/envs/fl/lib/python3.8/site-packages/sklearn/cluster/_agglomerative.py:983: FutureWarning: Attribute `affinity` was deprecated in version 1.2 and will be removed in 1.4. Use `metric` instead\n",
      "  warnings.warn(\n",
      "Agglomerative Clustering: Time: 1.5206398963928223\n",
      "Clustering by model updates\n",
      "cluster: [2, 10, 11, 12, 13, 14, 15, 16, 17, 18, 19, 20, 21, 22, 23, 24]\n",
      "names: [93, 89, 6, 0, 35, 71, 28, 86, 84, 13, 92, 83, 34, 61, 74, 16, 26, 30, 46, 98, 15, 40, 1, 44, 91]\n",
      "cluster: [0, 1, 3, 4, 5, 6, 7, 8, 9]\n",
      "names: [93, 89, 6, 0, 35, 71, 28, 86, 84, 13, 92, 83, 34, 61, 74, 16, 26, 30, 46, 98, 15, 40, 1, 44, 91]\n"
     ]
    },
    {
     "name": "stdout",
     "output_type": "stream",
     "text": [
      "Validating all clients at epoch 202\n"
     ]
    },
    {
     "name": "stderr",
     "output_type": "stream",
     "text": [
      "100%|██████████| 2/2 [00:31<00:00, 15.98s/it]\n",
      "cluster maliciousness: [0.0625, 1.0]\n",
      "saving validation container to saved_models/113d188cf4a0f8a7bc9c788e32162e09/validation_container_202.pkl with params type <class 'collections.defaultdict'>\n",
      "saving validation container to saved_models/113d188cf4a0f8a7bc9c788e32162e09/validation_container_202.pkl with params type <class 'collections.defaultdict'>\n",
      "Validation Done: Time: 46.696205139160156\n",
      "params type <class 'collections.defaultdict'>\n",
      "self.mal_cluster_indices: [1], self.benign_cluster_indices: [0]\n",
      "before malicious validation crafting\n",
      "self.lowest_performing_classes: [2, 3]\n",
      "lowest_score_for_each_cluster: [-0.4101907, -0.2050924]\n",
      "after malicious validation crafting\n",
      "self.lowest_performing_classes: [2, 3]\n",
      "lowest_score_for_each_cluster: [-0.2845404, -0.22354381]\n",
      "zscores: [-0.99999976  1.0000002 ]\n",
      "self.argsort_result: [0 1]\n"
     ]
    },
    {
     "name": "stdout",
     "output_type": "stream",
     "text": [
      "wv: [ 0.1111111111111111 0.1111111111111111 0.0 0.1111111111111111 0.1111111111111111 0.1111111111111111 0.1111111111111111 0.1111111111111111 0.1111111111111111 0.1111111111111111 0.0 0.0 0.0 0.0 0.0 0.0 0.0 0.0 0.0 0.0 0.0 0.0 0.0 0.0 0.0]\n"
     ]
    },
    {
     "name": "stderr",
     "output_type": "stream",
     "text": [
      "Aggregation Done: Time 1.328948974609375\n",
      "adversarial wv: ['93: 0.1111111111111111', '89: 0.1111111111111111', '6: 0.0', '0: 0.1111111111111111', '35: 0.1111111111111111', '71: 0.1111111111111111', '28: 0.1111111111111111', '86: 0.1111111111111111', '84: 0.1111111111111111', '13: 0.1111111111111111']\n",
      "benign wv: ['92: 0.0', '83: 0.0', '34: 0.0', '61: 0.0', '74: 0.0', '16: 0.0', '26: 0.0', '30: 0.0', '46: 0.0', '98: 0.0', '15: 0.0', '40: 0.0', '1: 0.0', '44: 0.0', '91: 0.0']\n",
      "time spent on aggregation: 60.299100160598755\n",
      "___Test Target_ResNet_18 poisoned: False, epoch: 202: Average loss: 0.7546, Accuracy: 7593/10000 (75.9300%)\n",
      "___Test Target_ResNet_18 poisoned: True, epoch: -1: Average loss: 0.4200, Accuracy: 167/196 (85.2041%)\n",
      "time spent on testing: 3.1767079830169678\n",
      "Done in 87.25225496292114 sec.\n",
      "This run has a label: May.22_16.57.20. \n",
      "Server Epoch:203 choose agents : [13, 29, 20, 35, 95, 84, 0, 3, 54, 93, 33, 18, 83, 49, 62, 63, 70, 37, 50, 44, 23, 56, 7, 68, 34].\n",
      "  4%|▍         | 1/25 [00:03<01:20,  3.33s/it]\n"
     ]
    },
    {
     "ename": "KeyboardInterrupt",
     "evalue": "",
     "output_type": "error",
     "traceback": [
      "\u001b[0;31m---------------------------------------------------------------------------\u001b[0m",
      "\u001b[0;31mKeyboardInterrupt\u001b[0m                         Traceback (most recent call last)",
      "Cell \u001b[0;32mIn[2], line 3\u001b[0m\n\u001b[1;32m      1\u001b[0m \u001b[39mfrom\u001b[39;00m \u001b[39mmain\u001b[39;00m \u001b[39mimport\u001b[39;00m run\n\u001b[0;32m----> 3\u001b[0m run(params)\n",
      "File \u001b[0;32m~/DBA_mod/main.py:133\u001b[0m, in \u001b[0;36mrun\u001b[0;34m(params_loaded)\u001b[0m\n\u001b[1;32m    129\u001b[0m \u001b[39m# else:\u001b[39;00m\n\u001b[1;32m    130\u001b[0m \u001b[39m#     if helper.params['is_random_adversary']==False:\u001b[39;00m\n\u001b[1;32m    131\u001b[0m \u001b[39m#         adversarial_name_keys=copy.deepcopy(helper.adversarial_namelist)\u001b[39;00m\n\u001b[1;32m    132\u001b[0m logger\u001b[39m.\u001b[39minfo(\u001b[39mf\u001b[39m\u001b[39m'\u001b[39m\u001b[39mServer Epoch:\u001b[39m\u001b[39m{\u001b[39;00mepoch\u001b[39m}\u001b[39;00m\u001b[39m choose agents : \u001b[39m\u001b[39m{\u001b[39;00magent_name_keys\u001b[39m}\u001b[39;00m\u001b[39m.\u001b[39m\u001b[39m'\u001b[39m)\n\u001b[0;32m--> 133\u001b[0m epochs_submit_update_dict, num_samples_dict \u001b[39m=\u001b[39m train\u001b[39m.\u001b[39;49mtrain(helper\u001b[39m=\u001b[39;49mhelper, start_epoch\u001b[39m=\u001b[39;49mepoch,\n\u001b[1;32m    134\u001b[0m                                                           local_model\u001b[39m=\u001b[39;49mhelper\u001b[39m.\u001b[39;49mlocal_model,\n\u001b[1;32m    135\u001b[0m                                                           target_model\u001b[39m=\u001b[39;49mhelper\u001b[39m.\u001b[39;49mtarget_model,\n\u001b[1;32m    136\u001b[0m                                                           is_poison\u001b[39m=\u001b[39;49mhelper\u001b[39m.\u001b[39;49mparams[\u001b[39m'\u001b[39;49m\u001b[39mis_poison\u001b[39;49m\u001b[39m'\u001b[39;49m],\n\u001b[1;32m    137\u001b[0m                                                           agent_name_keys\u001b[39m=\u001b[39;49magent_name_keys)\n\u001b[1;32m    138\u001b[0m \u001b[39m# for agnt in helper.local_models.keys():\u001b[39;00m\n\u001b[1;32m    139\u001b[0m \u001b[39m#     print(helper.local_models[agnt].state_dict())\u001b[39;00m\n\u001b[1;32m    140\u001b[0m logger\u001b[39m.\u001b[39minfo(\u001b[39mf\u001b[39m\u001b[39m'\u001b[39m\u001b[39mtime spent on training: \u001b[39m\u001b[39m{\u001b[39;00mtime\u001b[39m.\u001b[39mtime()\u001b[39m \u001b[39m\u001b[39m-\u001b[39m\u001b[39m \u001b[39mt\u001b[39m}\u001b[39;00m\u001b[39m'\u001b[39m)\n",
      "File \u001b[0;32m~/DBA_mod/train.py:27\u001b[0m, in \u001b[0;36mtrain\u001b[0;34m(helper, start_epoch, local_model, target_model, is_poison, agent_name_keys)\u001b[0m\n\u001b[1;32m     19\u001b[0m     epochs_submit_update_dict, num_samples_dict \u001b[39m=\u001b[39m loan_train\u001b[39m.\u001b[39mLoanTrain(helper, start_epoch, local_model, target_model, is_poison,agent_name_keys)\n\u001b[1;32m     20\u001b[0m \u001b[39melif\u001b[39;00m helper\u001b[39m.\u001b[39mparams[\u001b[39m'\u001b[39m\u001b[39mtype\u001b[39m\u001b[39m'\u001b[39m] \u001b[39m==\u001b[39m config\u001b[39m.\u001b[39mTYPE_CIFAR \\\n\u001b[1;32m     21\u001b[0m         \u001b[39mor\u001b[39;00m helper\u001b[39m.\u001b[39mparams[\u001b[39m'\u001b[39m\u001b[39mtype\u001b[39m\u001b[39m'\u001b[39m] \u001b[39m==\u001b[39m config\u001b[39m.\u001b[39mTYPE_MNIST \\\n\u001b[1;32m     22\u001b[0m         \u001b[39mor\u001b[39;00m helper\u001b[39m.\u001b[39mparams[\u001b[39m'\u001b[39m\u001b[39mtype\u001b[39m\u001b[39m'\u001b[39m]\u001b[39m==\u001b[39mconfig\u001b[39m.\u001b[39mTYPE_TINYIMAGENET \\\n\u001b[0;32m   (...)\u001b[0m\n\u001b[1;32m     25\u001b[0m         \u001b[39mor\u001b[39;00m helper\u001b[39m.\u001b[39mparams[\u001b[39m'\u001b[39m\u001b[39mtype\u001b[39m\u001b[39m'\u001b[39m]\u001b[39m==\u001b[39mconfig\u001b[39m.\u001b[39mTYPE_TINYIMAGENET\\\n\u001b[1;32m     26\u001b[0m         \u001b[39mor\u001b[39;00m helper\u001b[39m.\u001b[39mparams[\u001b[39m'\u001b[39m\u001b[39mtype\u001b[39m\u001b[39m'\u001b[39m]\u001b[39m==\u001b[39mconfig\u001b[39m.\u001b[39mTYPE_CELEBA:\n\u001b[0;32m---> 27\u001b[0m     epochs_submit_update_dict, num_samples_dict \u001b[39m=\u001b[39m image_train\u001b[39m.\u001b[39;49mImageTrain(helper, start_epoch, local_model,\n\u001b[1;32m     28\u001b[0m                                                                          target_model, is_poison, agent_name_keys)\n\u001b[1;32m     29\u001b[0m \u001b[39mreturn\u001b[39;00m epochs_submit_update_dict, num_samples_dict\n",
      "File \u001b[0;32m~/DBA_mod/image_train.py:137\u001b[0m, in \u001b[0;36mImageTrain\u001b[0;34m(helper, start_epoch, local_model, target_model, is_poison, agent_name_keys)\u001b[0m\n\u001b[1;32m    134\u001b[0m loss \u001b[39m=\u001b[39m helper\u001b[39m.\u001b[39mparams[\u001b[39m'\u001b[39m\u001b[39malpha_loss\u001b[39m\u001b[39m'\u001b[39m] \u001b[39m*\u001b[39m class_loss \u001b[39m+\u001b[39m \\\n\u001b[1;32m    135\u001b[0m     (\u001b[39m1\u001b[39m \u001b[39m-\u001b[39m helper\u001b[39m.\u001b[39mparams[\u001b[39m'\u001b[39m\u001b[39malpha_loss\u001b[39m\u001b[39m'\u001b[39m]) \u001b[39m*\u001b[39m distance_loss\n\u001b[1;32m    136\u001b[0m \u001b[39m# main.logger.info(f'distance_loss: {distance_loss}, class_loss: {class_loss}, loss: {loss}')\u001b[39;00m\n\u001b[0;32m--> 137\u001b[0m loss\u001b[39m.\u001b[39;49mbackward()\n\u001b[1;32m    139\u001b[0m \u001b[39m# get gradients\u001b[39;00m\n\u001b[1;32m    140\u001b[0m \u001b[39m# if helper.params['aggregation_methods']==config.AGGR_FLAME:\u001b[39;00m\n\u001b[1;32m    141\u001b[0m \u001b[39mif\u001b[39;00m helper\u001b[39m.\u001b[39mparams[\u001b[39m'\u001b[39m\u001b[39maggregation_methods\u001b[39m\u001b[39m'\u001b[39m] \u001b[39min\u001b[39;00m [config\u001b[39m.\u001b[39mAGGR_FLAME, config\u001b[39m.\u001b[39mAGGR_FLTRUST, config\u001b[39m.\u001b[39mAGGR_OURS, config\u001b[39m.\u001b[39mAGGR_AFA, config\u001b[39m.\u001b[39mAGGR_MEAN]:\n",
      "File \u001b[0;32m~/miniconda/envs/fl/lib/python3.8/site-packages/torch/_tensor.py:487\u001b[0m, in \u001b[0;36mTensor.backward\u001b[0;34m(self, gradient, retain_graph, create_graph, inputs)\u001b[0m\n\u001b[1;32m    477\u001b[0m \u001b[39mif\u001b[39;00m has_torch_function_unary(\u001b[39mself\u001b[39m):\n\u001b[1;32m    478\u001b[0m     \u001b[39mreturn\u001b[39;00m handle_torch_function(\n\u001b[1;32m    479\u001b[0m         Tensor\u001b[39m.\u001b[39mbackward,\n\u001b[1;32m    480\u001b[0m         (\u001b[39mself\u001b[39m,),\n\u001b[0;32m   (...)\u001b[0m\n\u001b[1;32m    485\u001b[0m         inputs\u001b[39m=\u001b[39minputs,\n\u001b[1;32m    486\u001b[0m     )\n\u001b[0;32m--> 487\u001b[0m torch\u001b[39m.\u001b[39;49mautograd\u001b[39m.\u001b[39;49mbackward(\n\u001b[1;32m    488\u001b[0m     \u001b[39mself\u001b[39;49m, gradient, retain_graph, create_graph, inputs\u001b[39m=\u001b[39;49minputs\n\u001b[1;32m    489\u001b[0m )\n",
      "File \u001b[0;32m~/miniconda/envs/fl/lib/python3.8/site-packages/torch/autograd/__init__.py:200\u001b[0m, in \u001b[0;36mbackward\u001b[0;34m(tensors, grad_tensors, retain_graph, create_graph, grad_variables, inputs)\u001b[0m\n\u001b[1;32m    195\u001b[0m     retain_graph \u001b[39m=\u001b[39m create_graph\n\u001b[1;32m    197\u001b[0m \u001b[39m# The reason we repeat same the comment below is that\u001b[39;00m\n\u001b[1;32m    198\u001b[0m \u001b[39m# some Python versions print out the first line of a multi-line function\u001b[39;00m\n\u001b[1;32m    199\u001b[0m \u001b[39m# calls in the traceback and some print out the last line\u001b[39;00m\n\u001b[0;32m--> 200\u001b[0m Variable\u001b[39m.\u001b[39;49m_execution_engine\u001b[39m.\u001b[39;49mrun_backward(  \u001b[39m# Calls into the C++ engine to run the backward pass\u001b[39;49;00m\n\u001b[1;32m    201\u001b[0m     tensors, grad_tensors_, retain_graph, create_graph, inputs,\n\u001b[1;32m    202\u001b[0m     allow_unreachable\u001b[39m=\u001b[39;49m\u001b[39mTrue\u001b[39;49;00m, accumulate_grad\u001b[39m=\u001b[39;49m\u001b[39mTrue\u001b[39;49;00m)\n",
      "\u001b[0;31mKeyboardInterrupt\u001b[0m: "
     ]
    }
   ],
   "source": [
    "from main import run\n",
    "\n",
    "run(params)"
   ]
  }
 ],
 "metadata": {
  "kernelspec": {
   "display_name": "fl",
   "language": "python",
   "name": "python3"
  },
  "language_info": {
   "codemirror_mode": {
    "name": "ipython",
    "version": 3
   },
   "file_extension": ".py",
   "mimetype": "text/x-python",
   "name": "python",
   "nbconvert_exporter": "python",
   "pygments_lexer": "ipython3",
   "version": "3.8.16"
  },
  "orig_nbformat": 4
 },
 "nbformat": 4,
 "nbformat_minor": 2
}
